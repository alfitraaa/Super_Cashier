{
 "cells": [
  {
   "attachments": {},
   "cell_type": "markdown",
   "metadata": {},
   "source": [
    "# Test Case 1"
   ]
  },
  {
   "cell_type": "code",
   "execution_count": 1,
   "metadata": {},
   "outputs": [],
   "source": [
    "from super_cashier import *"
   ]
  },
  {
   "cell_type": "code",
   "execution_count": 2,
   "metadata": {},
   "outputs": [],
   "source": [
    "customer_1 = Transaction()"
   ]
  },
  {
   "cell_type": "code",
   "execution_count": 3,
   "metadata": {},
   "outputs": [
    {
     "name": "stdout",
     "output_type": "stream",
     "text": [
      "{'Ayam Goreng': [2, 20000], 'Pasta Gigi': [3, 15000]}\n"
     ]
    }
   ],
   "source": [
    "customer_1.add_item('Ayam Goreng', 2, 20_000)\n",
    "customer_1.add_item('Pasta Gigi', 3, 15_000)\n",
    "print(customer_1)"
   ]
  },
  {
   "cell_type": "code",
   "execution_count": 4,
   "metadata": {},
   "outputs": [
    {
     "name": "stdout",
     "output_type": "stream",
     "text": [
      "{'Ayam Goreng': [2, 20000]}\n"
     ]
    }
   ],
   "source": [
    "customer_1.delete_item('Pasta Gigi')\n",
    "print(customer_1)"
   ]
  },
  {
   "cell_type": "code",
   "execution_count": 5,
   "metadata": {},
   "outputs": [
    {
     "name": "stdout",
     "output_type": "stream",
     "text": [
      "All items deleted successfully\n"
     ]
    }
   ],
   "source": [
    "customer_1.reset_transaction()"
   ]
  },
  {
   "cell_type": "code",
   "execution_count": 6,
   "metadata": {},
   "outputs": [
    {
     "name": "stdout",
     "output_type": "stream",
     "text": [
      "{'Ayam goreng': [2, 20000], 'Pasta Gigi': [3, 15000], 'Mainan Mobil': [1, 200000], 'Mi Instan': [5, 3000]}\n"
     ]
    }
   ],
   "source": [
    "customer_1.add_item('Ayam goreng', 2, 20_000)\n",
    "customer_1.add_item('Pasta Gigi', 3, 15_000)\n",
    "customer_1.add_item('Mainan Mobil', 1, 200_000)\n",
    "customer_1.add_item('Mi Instan', 5, 3000)\n",
    "print(customer_1)"
   ]
  },
  {
   "cell_type": "code",
   "execution_count": 7,
   "metadata": {},
   "outputs": [
    {
     "name": "stdout",
     "output_type": "stream",
     "text": [
      "The following are items purchased:\n",
      "\n",
      "| No | Item Name               | Quantity | Price     | Total Price     |\n",
      "| 1  | Ayam goreng             | 2        | 20000     | 40000           |\n",
      "| 2  | Pasta Gigi              | 3        | 15000     | 45000           |\n",
      "| 3  | Mainan Mobil            | 1        | 200000    | 200000          |\n",
      "| 4  | Mi Instan               | 5        | 3000      | 15000           |\n",
      "\n",
      "Total : 300000\n",
      "Discount : 5%\n",
      "The total amount to be paid is: Rp 285000.0\n"
     ]
    }
   ],
   "source": [
    "customer_1.total_price()"
   ]
  },
  {
   "attachments": {},
   "cell_type": "markdown",
   "metadata": {},
   "source": [
    "# Test Case 2"
   ]
  },
  {
   "cell_type": "code",
   "execution_count": 8,
   "metadata": {},
   "outputs": [],
   "source": [
    "customer_2 = Transaction()"
   ]
  },
  {
   "cell_type": "code",
   "execution_count": 9,
   "metadata": {},
   "outputs": [
    {
     "name": "stdout",
     "output_type": "stream",
     "text": [
      "{'Head and Neck Shampooo': [2, 32000], 'Poends Facial Wash': [333, 20000], 'Lifeman Saap': [1, 30000], 'Pepsident': [2, 15000], 'Fanto Drink': ['4', 8000], 'Oral-X Toothbrush': [1, 120000], 'Good Tissue': [2, 18000], 'Cold Wheels Jumbo Toy': [1, 350000]}\n"
     ]
    }
   ],
   "source": [
    "customer_2.add_item('Head and Neck Shampooo', 2, 32_000)\n",
    "customer_2.add_item('Poends Facial Wash', 333, 20_000)\n",
    "customer_2.add_item('Lifeman Saap', 1, 30_000)\n",
    "customer_2.add_item('Pepsident', 2, 15_000)\n",
    "customer_2.add_item('Fanto Drink', '4', 8_000)\n",
    "customer_2.add_item('Oral-X Toothbrush', 1, 120_000)\n",
    "customer_2.add_item('Good Tissue', 2, 18_000)\n",
    "customer_2.add_item('Cold Wheels Jumbo Toy', 1, 350_000)\n",
    "print(customer_2)"
   ]
  },
  {
   "cell_type": "code",
   "execution_count": 10,
   "metadata": {},
   "outputs": [
    {
     "name": "stdout",
     "output_type": "stream",
     "text": [
      "{'Poends Facial Wash': [3, 20000], 'Pepsident': [2, 15000], 'Fanto Drink': ['4', 8000], 'Oral-X Toothbrush': [1, 12000], 'Good Tissue': [2, 18000], 'Cold Wheels Jumbo Toy': [1, 350000], 'Head and Neck Shampoo': [2, 32000], 'Lifeman Soap': [1, 30000]}\n"
     ]
    }
   ],
   "source": [
    "customer_2.update_item_name('Head and Neck Shampooo', 'Head and Neck Shampoo')\n",
    "customer_2.update_item_name('Lifeman Saap', 'Lifeman Soap')\n",
    "customer_2.update_item_qty('Poends Facial Wash', 3)\n",
    "customer_2.update_item_price('Oral-X Toothbrush', 12_000)\n",
    "print(customer_2)"
   ]
  },
  {
   "cell_type": "code",
   "execution_count": 11,
   "metadata": {},
   "outputs": [
    {
     "name": "stdout",
     "output_type": "stream",
     "text": [
      "There is a data input error\n",
      "\n",
      "{'Poends Facial Wash': [3, 20000], 'Pepsident': [2, 15000], 'Fanto Drink': ['4', 8000], 'Oral-X Toothbrush': [1, 12000], 'Good Tissue': [2, 18000], 'Cold Wheels Jumbo Toy': [1, 350000], 'Head and Neck Shampoo': [2, 32000], 'Lifeman Soap': [1, 30000]}\n",
      "\n",
      "Check your shopping list again\n"
     ]
    }
   ],
   "source": [
    "customer_2.check_order()"
   ]
  },
  {
   "cell_type": "code",
   "execution_count": 12,
   "metadata": {},
   "outputs": [
    {
     "name": "stdout",
     "output_type": "stream",
     "text": [
      "{'Poends Facial Wash': [3, 20000], 'Pepsident': [2, 15000], 'Oral-X Toothbrush': [1, 12000], 'Good Tissue': [2, 18000], 'Head and Neck Shampoo': [2, 32000], 'Lifeman Soap': [1, 30000]}\n"
     ]
    }
   ],
   "source": [
    "customer_2.delete_item('Cold Wheels Jumbo Toy')\n",
    "customer_2.delete_item('Fanto Drink')\n",
    "print(customer_2)"
   ]
  },
  {
   "cell_type": "code",
   "execution_count": 13,
   "metadata": {},
   "outputs": [
    {
     "name": "stdout",
     "output_type": "stream",
     "text": [
      "Order is correct\n",
      "\n",
      "| No | Item Name               | Quantity | Price     | Total Price     |\n",
      "| 1  | Poends Facial Wash      | 3        | 20000     | 60000           |\n",
      "| 2  | Pepsident               | 2        | 15000     | 30000           |\n",
      "| 3  | Oral-X Toothbrush       | 1        | 12000     | 12000           |\n",
      "| 4  | Good Tissue             | 2        | 18000     | 36000           |\n",
      "| 5  | Head and Neck Shampoo   | 2        | 32000     | 64000           |\n",
      "| 6  | Lifeman Soap            | 1        | 30000     | 30000           |\n"
     ]
    }
   ],
   "source": [
    "customer_2.check_order()"
   ]
  },
  {
   "cell_type": "code",
   "execution_count": 14,
   "metadata": {},
   "outputs": [
    {
     "name": "stdout",
     "output_type": "stream",
     "text": [
      "The following are items purchased:\n",
      "\n",
      "| No | Item Name               | Quantity | Price     | Total Price     |\n",
      "| 1  | Poends Facial Wash      | 3        | 20000     | 60000           |\n",
      "| 2  | Pepsident               | 2        | 15000     | 30000           |\n",
      "| 3  | Oral-X Toothbrush       | 1        | 12000     | 12000           |\n",
      "| 4  | Good Tissue             | 2        | 18000     | 36000           |\n",
      "| 5  | Head and Neck Shampoo   | 2        | 32000     | 64000           |\n",
      "| 6  | Lifeman Soap            | 1        | 30000     | 30000           |\n",
      "\n",
      "Total : 232000\n",
      "Discount : 5%\n",
      "The total amount to be paid is: Rp 220400.0\n"
     ]
    }
   ],
   "source": [
    "customer_2.total_price()"
   ]
  },
  {
   "cell_type": "code",
   "execution_count": 15,
   "metadata": {},
   "outputs": [
    {
     "name": "stdout",
     "output_type": "stream",
     "text": [
      "------------------------------------------------------------------------\n",
      "                      Welcome to Andi's Supermarket                     \n",
      "------------------------------------------------------------------------\n",
      "Name : Fariz\n",
      "Date : January 24, 2023 14:35:28\n",
      "------------------------------------------------------------------------\n",
      "| No | Item Name               | Quantity | Price     | Total Price     |\n",
      "|----|-------------------------|----------|-----------|-----------------|\n",
      "| 1  | Poends Facial Wash      | 3        | 20000     | 60000           |\n",
      "| 2  | Pepsident               | 2        | 15000     | 30000           |\n",
      "| 3  | Oral-X Toothbrush       | 1        | 12000     | 12000           |\n",
      "| 4  | Good Tissue             | 2        | 18000     | 36000           |\n",
      "| 5  | Head and Neck Shampoo   | 2        | 32000     | 64000           |\n",
      "| 6  | Lifeman Soap            | 1        | 30000     | 30000           |\n",
      "------------------------------------------------------------------------\n",
      "The total amount to be paid is :                       Rp 220400.0\n",
      "------------------------------------------------------------------------\n",
      "                        Thank You for Visiting!                         \n",
      "------------------------------------------------------------------------\n"
     ]
    }
   ],
   "source": [
    "customer_2.check_out()"
   ]
  }
 ],
 "metadata": {
  "kernelspec": {
   "display_name": "Python 3",
   "language": "python",
   "name": "python3"
  },
  "language_info": {
   "codemirror_mode": {
    "name": "ipython",
    "version": 3
   },
   "file_extension": ".py",
   "mimetype": "text/x-python",
   "name": "python",
   "nbconvert_exporter": "python",
   "pygments_lexer": "ipython3",
   "version": "3.10.9"
  },
  "orig_nbformat": 4,
  "vscode": {
   "interpreter": {
    "hash": "486e0d5a79acdbfffd563ee7a67a93a5017bd2a4f66495483a69f0245c8a4a6c"
   }
  }
 },
 "nbformat": 4,
 "nbformat_minor": 2
}
